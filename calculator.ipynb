{
 "cells": [
  {
   "cell_type": "code",
   "execution_count": 1,
   "id": "3d77f82e",
   "metadata": {},
   "outputs": [
    {
     "name": "stdout",
     "output_type": "stream",
     "text": [
      "enter your first number:4\n",
      "+\n",
      "-\n",
      "*\n",
      "/\n",
      "which operator you want to pick:+\n",
      "\n",
      "enter your second number:4\n",
      "4 + 4 = 8\n",
      "\n",
      "if you want to calculate again with same number type'yes'\n",
      " if you want to start new calculation type 'no' to exit enter 'exit'exit\n"
     ]
    }
   ],
   "source": [
    "def addition(n1,n2):\n",
    "    return n1+n2\n",
    "def subtract(n1,n2):\n",
    "    return n1-n2\n",
    "def multiply(n1,n2):\n",
    "    return n1*n2\n",
    "def divide(n1,n2):\n",
    "    return n1/n2\n",
    "operations={\"+\":addition,\"-\":subtract,\"*\":multiply,\"/\":divide}\n",
    "end=True\n",
    "while end==True:\n",
    "    n1=int(input(\"enter your first number:\"))\n",
    "    for key in operations:\n",
    "        print(key)\n",
    "    operator=input(\"which operator you want to pick:\")\n",
    "    n2=int(input(\"\\nenter your second number:\"))\n",
    "    value=operations[operator]\n",
    "    ans=value(n1,n2)\n",
    "    print(n1,operator,n2,\"=\",ans)\n",
    "    again=input(\"\\nif you want to calculate again with same number type'yes'\\n if you want to start new calculation type 'no' to exit enter 'exit' :\")\n",
    "    if again.lower()==\"exit\":\n",
    "        break\n",
    "    while again==\"yes\":\n",
    "        print(\"\\ncurrent value is :\",ans)\n",
    "        for key in operations:\n",
    "            print(key)\n",
    "        operator=input(\"which operator you want to pick:\")\n",
    "        n3=int(input(\"\\nenter a number:\"))\n",
    "        value=operations[operator]\n",
    "        next_answer=value(ans,n3)\n",
    "        print(ans,operator,n3,\"=\",next_answer)\n",
    "        again=input(\"\\nif you want to calculate again with same number type'yes'\\n if you want to start new calculation type 'no' to exit enter 'exit' : \")\n",
    "        if again.lower()==\"exit\":\n",
    "            break\n",
    "        ans=next_answer\n",
    "\n",
    "    \n"
   ]
  },
  {
   "cell_type": "code",
   "execution_count": null,
   "id": "13568b79",
   "metadata": {},
   "outputs": [],
   "source": []
  }
 ],
 "metadata": {
  "kernelspec": {
   "display_name": "Python 3 (ipykernel)",
   "language": "python",
   "name": "python3"
  },
  "language_info": {
   "codemirror_mode": {
    "name": "ipython",
    "version": 3
   },
   "file_extension": ".py",
   "mimetype": "text/x-python",
   "name": "python",
   "nbconvert_exporter": "python",
   "pygments_lexer": "ipython3",
   "version": "3.10.9"
  }
 },
 "nbformat": 4,
 "nbformat_minor": 5
}
