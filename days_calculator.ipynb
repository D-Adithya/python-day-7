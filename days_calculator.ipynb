{
 "cells": [
  {
   "cell_type": "code",
   "execution_count": 18,
   "id": "c5b2ff85",
   "metadata": {},
   "outputs": [
    {
     "name": "stdout",
     "output_type": "stream",
     "text": [
      "enter the year2023\n",
      "enter the month9\n",
      "30\n"
     ]
    }
   ],
   "source": [
    "def leap_year(year):\n",
    "    if year%4==0:\n",
    "        if year%100==0:\n",
    "            if year%400==0:\n",
    "                return True\n",
    "            else:\n",
    "                return False\n",
    "        else:\n",
    "            return True\n",
    "    else:\n",
    "        return False\n",
    "def days_in_month(year,month):\n",
    "    month_days=[31,28,31,30,31,30,31,31,30,31,30,31]\n",
    "    curr_year=leap_year(year)\n",
    "    if month==2:\n",
    "        if curr_year==True:\n",
    "            print(month_days[month-1]+1)\n",
    "        else:\n",
    "            print(month_days[month-1])\n",
    "    else:\n",
    "        print(month_days[month-1])\n",
    "\n",
    "year=int(input(\"enter the year : \"))\n",
    "month=int(input(\"enter the month : \"))\n",
    "\n",
    "days_in_month(year,month)\n",
    "\n",
    "            \n",
    "    \n",
    "        "
   ]
  },
  {
   "cell_type": "code",
   "execution_count": null,
   "id": "2d652305",
   "metadata": {},
   "outputs": [],
   "source": []
  }
 ],
 "metadata": {
  "kernelspec": {
   "display_name": "Python 3 (ipykernel)",
   "language": "python",
   "name": "python3"
  },
  "language_info": {
   "codemirror_mode": {
    "name": "ipython",
    "version": 3
   },
   "file_extension": ".py",
   "mimetype": "text/x-python",
   "name": "python",
   "nbconvert_exporter": "python",
   "pygments_lexer": "ipython3",
   "version": "3.10.9"
  }
 },
 "nbformat": 4,
 "nbformat_minor": 5
}
